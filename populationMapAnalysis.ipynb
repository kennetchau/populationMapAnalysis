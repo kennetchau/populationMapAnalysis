{
 "cells": [
  {
   "cell_type": "code",
   "execution_count": 125,
   "id": "f9a19624-3051-4756-9d1d-8cbdbe7caf65",
   "metadata": {},
   "outputs": [],
   "source": [
    "# import modules\n",
    "import sqlite3 \n",
    "import folium\n",
    "from folium import plugins\n",
    "from folium.plugins import HeatMap, MarkerCluster\n",
    "import pandas as pd"
   ]
  },
  {
   "cell_type": "code",
   "execution_count": 117,
   "id": "11d7b2b6-705e-47c2-8361-cb3210deae2f",
   "metadata": {},
   "outputs": [],
   "source": [
    "# Create the connect between backend database \n",
    "conn = sqlite3.connect(\"database/world.db\")"
   ]
  },
  {
   "cell_type": "code",
   "execution_count": 118,
   "id": "ec7bad92-783b-4ad8-90c3-c2e209da0cbd",
   "metadata": {},
   "outputs": [],
   "source": [
    "# Create cursor to use if needed\n",
    "cursor = conn.cursor()"
   ]
  },
  {
   "cell_type": "code",
   "execution_count": 119,
   "id": "06783bb3-274e-41ac-becb-78cbfbdb6d2a",
   "metadata": {},
   "outputs": [],
   "source": [
    "# Get data from database and create a pandas dataframe\n",
    "df = pd.read_sql_query(\"SELECT city, population, lat, lng FROM worldCities WHERE population > 500000\", conn)"
   ]
  },
  {
   "cell_type": "code",
   "execution_count": 120,
   "id": "8ff0cbc5-fab8-4256-a9ea-1a7c65e4458d",
   "metadata": {},
   "outputs": [
    {
     "data": {
      "text/html": [
       "<div>\n",
       "<style scoped>\n",
       "    .dataframe tbody tr th:only-of-type {\n",
       "        vertical-align: middle;\n",
       "    }\n",
       "\n",
       "    .dataframe tbody tr th {\n",
       "        vertical-align: top;\n",
       "    }\n",
       "\n",
       "    .dataframe thead th {\n",
       "        text-align: right;\n",
       "    }\n",
       "</style>\n",
       "<table border=\"1\" class=\"dataframe\">\n",
       "  <thead>\n",
       "    <tr style=\"text-align: right;\">\n",
       "      <th></th>\n",
       "      <th>city</th>\n",
       "      <th>population</th>\n",
       "      <th>lat</th>\n",
       "      <th>lng</th>\n",
       "    </tr>\n",
       "  </thead>\n",
       "  <tbody>\n",
       "    <tr>\n",
       "      <th>69</th>\n",
       "      <td>Hong Kong</td>\n",
       "      <td>7450000.0</td>\n",
       "      <td>22.3</td>\n",
       "      <td>114.2</td>\n",
       "    </tr>\n",
       "  </tbody>\n",
       "</table>\n",
       "</div>"
      ],
      "text/plain": [
       "         city  population   lat    lng\n",
       "69  Hong Kong   7450000.0  22.3  114.2"
      ]
     },
     "execution_count": 120,
     "metadata": {},
     "output_type": "execute_result"
    }
   ],
   "source": [
    "# inspect data \n",
    "df.loc[df['city'] == \"Hong Kong\"]"
   ]
  },
  {
   "cell_type": "code",
   "execution_count": 121,
   "id": "93cb6044-6549-457a-823b-766558abb309",
   "metadata": {},
   "outputs": [],
   "source": [
    "# Use 500000 population as base\n",
    "df['population'] = df['population']/500000"
   ]
  },
  {
   "cell_type": "code",
   "execution_count": 122,
   "id": "1371f45b-2ce7-40bb-abf6-fcaae4da9f1b",
   "metadata": {},
   "outputs": [],
   "source": [
    "# Create the heatmap data list\n",
    "pop_data = [[row['lat'], row['lng'], row['population']] for index, row in df.iterrows()]"
   ]
  },
  {
   "cell_type": "code",
   "execution_count": 129,
   "id": "d430a6ab-884a-4ab8-8a81-327adfc4cb59",
   "metadata": {},
   "outputs": [],
   "source": [
    "# Create a folium map and add the heatmap layer on top of it\n",
    "\n",
    "m = folium.Map(location = (30,10), zoom_start = 3, tiles = 'cartodb positron')\n",
    "HeatMap(pop_data, name = \"Heat Map\").add_to(m)\n",
    "folium.TileLayer('cartodb dark_matter').add_to(m)\n",
    "folium.TileLayer('cartodb positron').add_to(m)\n",
    "folium.LayerControl().add_to(m)\n",
    "m.save(\"worldPopulation.html\")"
   ]
  },
  {
   "cell_type": "code",
   "execution_count": 124,
   "id": "a131edbf-d3e4-49db-9c0a-1690a038c145",
   "metadata": {},
   "outputs": [],
   "source": [
    "conn.close()"
   ]
  },
  {
   "cell_type": "code",
   "execution_count": null,
   "id": "23fe5224-7538-4072-b6a4-68bc9373906b",
   "metadata": {},
   "outputs": [],
   "source": []
  }
 ],
 "metadata": {
  "kernelspec": {
   "display_name": "Python 3 (ipykernel)",
   "language": "python",
   "name": "python3"
  },
  "language_info": {
   "codemirror_mode": {
    "name": "ipython",
    "version": 3
   },
   "file_extension": ".py",
   "mimetype": "text/x-python",
   "name": "python",
   "nbconvert_exporter": "python",
   "pygments_lexer": "ipython3",
   "version": "3.10.1"
  }
 },
 "nbformat": 4,
 "nbformat_minor": 5
}
